{
 "cells": [
  {
   "cell_type": "markdown",
   "metadata": {},
   "source": [
    "# 测试（Testing）\n",
    "- 来源于http://web.mit.edu/6.031/www/sp21/classes/03-testing\n",
    "- 软件验证包含testing和code review。\n",
    "- 验证过程是必须的，但是永远都不可能排除所有错误。一般工业级代码的错误率为1-10defects/kloc，高质量工业代码为0.1-1defects/kloc."
   ]
  },
  {
   "cell_type": "markdown",
   "metadata": {},
   "source": [
    "### 1.一般性的代码编写流程（test-first programming）\n",
    "- Spec:先写功能模块的说明、限定\n",
    "- Test:根据模块功能编写测试集\n",
    "- Implement:写出代码实现，通过所有测试\n",
    "\n",
    "但是软件开发往往都是迭代过程，一般可以先写简单的spec，几个重要的test，然后实现简单implement，再增加spec、test、implement"
   ]
  },
  {
   "cell_type": "markdown",
   "metadata": {},
   "source": [
    "### 2.测试集编写原则\n",
    "- 系统性编写测试例：将输入空间划分完整且互不重叠的部分（partition），从每一个区间中取一个测试例，同时要在边界上取测试例（0，INT_MIN， INT_MAX，列表最后一个...）\n",
    "- 测试例的准则：正确、全面、数量少\n",
    "- Java测试工具：JUnit\n",
    "- 在测试文件中记录测试策略，并在每个测试例前注释该测试例覆盖的方面\n"
   ]
  },
  {
   "cell_type": "code",
   "execution_count": null,
   "metadata": {},
   "outputs": [],
   "source": [
    "public class Multiply {\n",
    "  /*\n",
    "   * Testing strategy\n",
    "   *\n",
    "   * cover the cartesian product of these partitions:\n",
    "   *   partition on a: positive, negative, 0\n",
    "   *   partition on b: positive, negative, 0\n",
    "   *   partition on a: 1, !=1\n",
    "   *   partition on b: 1, !=1\n",
    "   *   partition on a: small (fits in a long value), or large (doesn't fit)\n",
    "   *   partition on b: small, large\n",
    "   * \n",
    "   * cover the subdomains of these partitions:\n",
    "   *   partition on signs of a and b:\n",
    "   *      both positive\n",
    "   *      both negative\n",
    "   *      different signs\n",
    "   *      one or both are 0\n",
    "   */\n",
    "\n",
    "  // covers a is positive, b is negative, \n",
    "  //        a fits in long value, b fits in long value,\n",
    "  //        a and b have different signs\n",
    "  @Test\n",
    "  public void testDifferentSigns() {\n",
    "      assertEquals(BigInteger.valueOf(-146), BigInteger.valueOf(73).multiply(BigInteger.valueOf(-2)));\n",
    "  }\n",
    "\n",
    "  // covers a = 1, b != 1, a and b have same sign\n",
    "  @Test\n",
    "  public void testIdentity() {\n",
    "      assertEquals(BigInteger.valueOf(33), BigInteger.valueOf(1).multiply(BigInteger.valueOf(33)));\n",
    "  }\n",
    "}"
   ]
  },
  {
   "cell_type": "markdown",
   "metadata": {},
   "source": [
    "- 在编写实现代码前先写black-box testing，写了实现后，再根据实现方法补充glass-box testing\n",
    "- 理论上测试集应该覆盖：所有代码行、所有可能分支、所有逻辑路径。实际上尽量保证测试集尽量覆盖所有代码行即可，可用工具检测测试集覆盖性（Java中EclEmma）\n",
    "- 单元测试间应该保证独立性（以便快速定位bug位置），即测试例的输入输出最好和单元的spec完全一致\n",
    "- 集成测试可以保证单元间相互配合正常，每当代码库修改时，都应该自动进行集成测试\n",
    "- 每次修复bug时，都应该把造成这个bug的情况编写为测试例，添加进测试集里，这叫回归测试（regression testing）\n",
    "- ### 软件开发的最好工具：自动回归测试！！！"
   ]
  }
 ],
 "metadata": {
  "language_info": {
   "name": "python"
  }
 },
 "nbformat": 4,
 "nbformat_minor": 2
}
