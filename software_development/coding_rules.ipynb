{
 "cells": [
  {
   "cell_type": "markdown",
   "metadata": {},
   "source": [
    "# 编程规范\n",
    "summarized from http://web.mit.edu/6.031/www/sp21/classes/04-code-review\n",
    "\n",
    "Two good ways of improve code quality: code review, enough sleep."
   ]
  },
  {
   "cell_type": "markdown",
   "metadata": {},
   "source": [
    "### 0.编程的一般性原则\n",
    "- Safe from bugs\n",
    "- Easy to understand\n",
    "- Ready for change"
   ]
  },
  {
   "cell_type": "markdown",
   "metadata": {},
   "source": [
    "### 1.风格标准\n",
    "找到自己喜欢的代码风格，并保持一致。参与项目时，与项目风格保持一致。"
   ]
  },
  {
   "cell_type": "markdown",
   "metadata": {},
   "source": [
    "### 2.不要重复自己的代码！\n",
    "DRY（Don't repeat yourself）\n",
    "复制代码会造成：修改困难、潜在bug复制传播"
   ]
  },
  {
   "cell_type": "markdown",
   "metadata": {},
   "source": [
    "### 3.在需要处注释\n",
    "- 对类、方法在起首注释功能、输入输出含义"
   ]
  },
  {
   "cell_type": "code",
   "execution_count": null,
   "metadata": {},
   "outputs": [],
   "source": [
    "/**\n",
    " * Compute the hailstone sequence.\n",
    " * See http://en.wikipedia.org/wiki/Collatz_conjecture#Statement_of_the_problem\n",
    " * @param n starting number of sequence; requires n > 0.\n",
    " * @return the hailstone sequence starting at n and ending with 1.\n",
    " *         For example, hailstone(3)=[3,10,5,16,8,4,2,1].\n",
    " */\n",
    "public static List<Integer> hailstoneSequence(int n) {\n",
    "    ...\n",
    "}"
   ]
  },
  {
   "cell_type": "markdown",
   "metadata": {},
   "source": [
    "对于输入n来说，不需要写输入的类型（int），因为可以在函数中看到，但是需要写清楚n的含义，以及对于n的束缚假设（n>0）"
   ]
  },
  {
   "cell_type": "markdown",
   "metadata": {},
   "source": [
    "- 从别处粘贴来的代码，需要注明出处"
   ]
  },
  {
   "cell_type": "code",
   "execution_count": null,
   "metadata": {},
   "outputs": [],
   "source": [
    "// read a web page into a string\n",
    "// see http://stackoverflow.com/questions/4328711/read-url-to-string-in-few-lines-of-java-code\n",
    "String mitHomepage = new Scanner(new URL(\"http://www.mit.edu\").openStream(), \"UTF-8\").useDelimiter(\"\\\\A\").next();"
   ]
  },
  {
   "cell_type": "markdown",
   "metadata": {},
   "source": [
    "这样可以防止侵权、同时方便接口版本更新后追溯"
   ]
  },
  {
   "cell_type": "markdown",
   "metadata": {},
   "source": [
    "- 表意复杂的单行语句，可以在行末直接注释用途\n",
    "\n",
    "但是对于顾名思义的代码，不要过度注释！！"
   ]
  },
  {
   "cell_type": "markdown",
   "metadata": {},
   "source": [
    "### 4.快速暴露问题\n",
    "静态类型问题>动态越界问题>不报问题，输出错误答案\n",
    "尽量在编程时，严格地约束输入输出类型，使得错误的输入输出可以在编译时就报错"
   ]
  },
  {
   "cell_type": "markdown",
   "metadata": {},
   "source": [
    "### 5.避免使用数字（magic numbers）！\n",
    "- 当需要记录一个常量时，使用一个名字记录，并在程序中使用名字\n",
    "\n",
    "好处是：名字更容易理解，方便未来修改常量值。\n",
    "- 当一个常量值是被计算出来时，不要直接写死计算结果，写原始值和表达式！\n",
    "多用数字关系编程！\n",
    "- 当常量太多时，将它们组织为数据，用处理数据的方式处理\n",
    "\n"
   ]
  },
  {
   "cell_type": "markdown",
   "metadata": {},
   "source": [
    "### 6.每个变量只负责一件事\n",
    "不要重复使用输入和变量，变量只做变量名自己顾名思义的事。\n",
    "如果需要做新的事，新申请一个变量。\n",
    "- method的输入变量，不应该被更改！（可以用final限定所有输入参数）"
   ]
  },
  {
   "cell_type": "markdown",
   "metadata": {},
   "source": [
    "### 7.使用好的变量名\n",
    "- 不要用缩写（tmp temp不好）\n",
    "- 不要用没有意义的名字（a b data temp）\n",
    "- python用的是snake_case起名法，java用的是camelCase起名法（getFirstName）\n",
    "- 全局变量全部大写(public static final ALL_CAPS_WITH_UNDERSCORES)\n",
    "- 方法名用动词，类名、变量名用名词"
   ]
  },
  {
   "cell_type": "markdown",
   "metadata": {},
   "source": [
    "### 8.用好空格\n",
    "- 用空格来对齐，使代码更易读\n",
    "- 不要用tab来占位，用空格来占位（在不同的编辑器中，tab可能被解为2、4、8个空格，会造成错乱），可以在IDE中设置tab键，输出空格"
   ]
  },
  {
   "cell_type": "markdown",
   "metadata": {},
   "source": [
    "### 9.不要用全局变量\n",
    "全局常量可以使用（public static final），但是全局变量会引发很多安全隐患"
   ]
  },
  {
   "cell_type": "markdown",
   "metadata": {},
   "source": [
    "### 10.method应改return结果，不要print结果\n",
    "只要最高层的程序才和人类直接交互，底层程序都只进行输入输出，不打印信息"
   ]
  },
  {
   "cell_type": "markdown",
   "metadata": {},
   "source": [
    "### 11.不要写针对特殊情况（if ...）的代码！！\n",
    "- 先写通用情况的代码，再考虑通用情况能否覆盖特殊情况。如果不能，再加限定。\n",
    "- 不要为了加速写特殊情况代码。如果真的需要加速，写完通用代码，验证可以加速后，再加上。\n",
    "- 写通用代码可能需要额外思考量，但是不要怕辛苦！目光放长远。\n",
    "\n",
    "写更短的代码，更方便更改，也更不容易藏匿bug"
   ]
  }
 ],
 "metadata": {
  "language_info": {
   "name": "python"
  }
 },
 "nbformat": 4,
 "nbformat_minor": 2
}
