{
 "cells": [
  {
   "cell_type": "markdown",
   "metadata": {},
   "source": [
    "# Git 使用要点"
   ]
  },
  {
   "cell_type": "markdown",
   "metadata": {},
   "source": [
    "### 1.git是一个有向无环图\n",
    "- 历史信息都存储在.git文件夹中\n",
    "- 当前节点的snapshot会checkout在工作区中\n",
    "- 每个文件的一个版本只会存储一次，不会重复存储"
   ]
  },
  {
   "cell_type": "markdown",
   "metadata": {},
   "source": [
    "### 2.git push&pull\n",
    "- git push会把.git中的object graph推送到remote仓库中\n",
    "- git pull会先把remote仓库.git中的内容同步到本地的.git中，再checkout到最新版本。如果需要merge，还会自动merge，除非发生merge conflict"
   ]
  },
  {
   "cell_type": "markdown",
   "metadata": {},
   "source": [
    "### 3.merge\n",
    "本地从版本A->B，远端别的人push了A->C，此时本地无法直接push。需要：\n",
    "- git pull拉取C\n",
    "- merge B和C的改动，如果改动位置不冲突，可以自动merge（很有可能产生bug），如果改动位置冲突，则需要手动解决merge conflict\n",
    "- git pull\n",
    "\n",
    "注意：最好有一些自动测试，来避免自动merge过程产生bug，确保每次代码改动后系统依然可运行！"
   ]
  }
 ],
 "metadata": {
  "language_info": {
   "name": "python"
  }
 },
 "nbformat": 4,
 "nbformat_minor": 2
}
