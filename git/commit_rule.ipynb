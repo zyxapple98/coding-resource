{
 "cells": [
  {
   "cell_type": "markdown",
   "id": "cfff0272",
   "metadata": {},
   "source": [
    "# 格式\n",
    "#### 1.首行大写，写摘要，不超过50字。\n",
    "#### 2.空行\n",
    "#### 3.分段落写详情。"
   ]
  },
  {
   "cell_type": "code",
   "execution_count": null,
   "id": "a0fb8794",
   "metadata": {},
   "outputs": [],
   "source": [
    "Capitalized, short (50 chars or less) summary\n",
    "\n",
    "More detailed explanatory text, if necessary.  Wrap it to about 72\n",
    "characters or so.  In some contexts, the first line is treated as the\n",
    "subject of an email and the rest of the text as the body.  The blank\n",
    "line separating the summary from the body is critical (unless you omit\n",
    "the body entirely); tools like rebase will confuse you if you run the\n",
    "two together.\n",
    "\n",
    "Write your commit message in the imperative: \"Fix bug\" and not \"Fixed bug\"\n",
    "or \"Fixes bug.\"  This convention matches up with commit messages generated\n",
    "by commands like git merge and git revert.\n",
    "\n",
    "Further paragraphs come after blank lines.\n",
    "\n",
    "- Bullet points are okay, too\n",
    "\n",
    "- Typically a hyphen or asterisk is used for the bullet, followed by a\n",
    "  single space, with blank lines in between, but conventions vary here\n",
    "\n",
    "- Use a hanging indent"
   ]
  },
  {
   "cell_type": "markdown",
   "id": "f7b294fc",
   "metadata": {},
   "source": [
    "# 注意\n",
    "#### 1.用祈使句\n",
    "#### 2.将commit拆分成独立的逻辑单元，方便日后版本回溯 （不要好多issue一起commit！！）\n",
    "#### 3.commit前检查基础错误，如空格检查"
   ]
  },
  {
   "cell_type": "markdown",
   "id": "1cddd6a7",
   "metadata": {},
   "source": [
    "### 拆分commit的方法\n",
    "#### use the staging area to split your work into at least one commit per issue, with a useful message per commit.\n",
    "#### If some of the changes modify the same file, try to use git add --patch to partially stage files (covered in detail in Interactive Staging). "
   ]
  },
  {
   "cell_type": "code",
   "execution_count": null,
   "id": "80a8dcd6",
   "metadata": {},
   "outputs": [],
   "source": []
  }
 ],
 "metadata": {
  "kernelspec": {
   "display_name": "Python 3 (ipykernel)",
   "language": "python",
   "name": "python3"
  },
  "language_info": {
   "codemirror_mode": {
    "name": "ipython",
    "version": 3
   },
   "file_extension": ".py",
   "mimetype": "text/x-python",
   "name": "python",
   "nbconvert_exporter": "python",
   "pygments_lexer": "ipython3",
   "version": "3.11.3"
  }
 },
 "nbformat": 4,
 "nbformat_minor": 5
}
