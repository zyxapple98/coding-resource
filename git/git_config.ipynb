{
 "cells": [
  {
   "cell_type": "markdown",
   "id": "0f62f819",
   "metadata": {},
   "source": [
    "# Configure Git\n",
    "git configuration copied from MIT 6.031 (https://ocw.mit.edu/ans7870/6/6.005/s16/getting-started/#config-eclipse)"
   ]
  },
  {
   "cell_type": "markdown",
   "id": "9207561a",
   "metadata": {},
   "source": [
    " "
   ]
  },
  {
   "cell_type": "markdown",
   "id": "eb72fa54",
   "metadata": {},
   "source": [
    "Before using Git, we’ll do some required setup and make it behave a little nicer.\n",
    "#### 1.Who are you?\n",
    "Every Git commit includes the author’s name and e-mail. Make sure Git knows your name and email by running these two commands:"
   ]
  },
  {
   "cell_type": "markdown",
   "id": "d5feaeb4",
   "metadata": {},
   "source": [
    "git config --global user.name \"Your Name\"\n",
    "git config --global user.email username@mit.edu"
   ]
  },
  {
   "cell_type": "markdown",
   "id": "3feafae7",
   "metadata": {},
   "source": [
    "#### 2.Editing commit messages.\n",
    "Every Git commit has a descriptive message, called the commit message. Pick one of the two options below to set up your commit message editor.\n",
    "\n",
    "Windows: use Notepad\n",
    "You can change the default editor to Notepad with:"
   ]
  },
  {
   "cell_type": "code",
   "execution_count": null,
   "id": "21ba9fb8",
   "metadata": {},
   "outputs": [],
   "source": [
    "git config --global core.editor notepad"
   ]
  },
  {
   "cell_type": "markdown",
   "id": "3cd62193",
   "metadata": {},
   "source": [
    "If you prefer to edit your commit messages in the terminal, choose Option 2 instead."
   ]
  },
  {
   "cell_type": "markdown",
   "id": "4fd8a6c5",
   "metadata": {},
   "source": [
    "#### 3.Add some color.\n",
    "Out of the box, it can be hard to see and understand all the output that git prints out at you. One way to make it a little easier is to add some color. Run the following commands to make your git output colorful:"
   ]
  },
  {
   "cell_type": "code",
   "execution_count": null,
   "id": "c97f0ff9",
   "metadata": {},
   "outputs": [],
   "source": [
    "git config --global color.branch auto\n",
    "git config --global color.diff auto\n",
    "git config --global color.interactive auto\n",
    "git config --global color.status auto\n",
    "git config --global color.grep auto"
   ]
  },
  {
   "cell_type": "markdown",
   "id": "196e6e37",
   "metadata": {},
   "source": [
    "#### 4.LOL.\n",
    "As we’ll see in the next step of this guide, git log is a command for looking at the history of your repository.\n",
    "To create a special version of git log that summarizes the history of your repo, let’s create a git lol alias using the command (all on one line) :"
   ]
  },
  {
   "cell_type": "code",
   "execution_count": null,
   "id": "c9a2b3c2",
   "metadata": {},
   "outputs": [],
   "source": [
    "git config --global alias.lol \"log --graph --oneline --decorate --color --all\""
   ]
  },
  {
   "cell_type": "markdown",
   "id": "c4eceb10",
   "metadata": {},
   "source": [
    "Now, in any repository you can use:"
   ]
  },
  {
   "cell_type": "code",
   "execution_count": null,
   "id": "a077296d",
   "metadata": {},
   "outputs": [],
   "source": [
    "git lol"
   ]
  },
  {
   "cell_type": "markdown",
   "id": "4872dce2",
   "metadata": {},
   "source": [
    "to see an ASCII-art graph of the commit history."
   ]
  },
  {
   "cell_type": "code",
   "execution_count": null,
   "id": "6dd0451a",
   "metadata": {},
   "outputs": [],
   "source": []
  }
 ],
 "metadata": {
  "kernelspec": {
   "display_name": "Python 3 (ipykernel)",
   "language": "python",
   "name": "python3"
  },
  "language_info": {
   "codemirror_mode": {
    "name": "ipython",
    "version": 3
   },
   "file_extension": ".py",
   "mimetype": "text/x-python",
   "name": "python",
   "nbconvert_exporter": "python",
   "pygments_lexer": "ipython3",
   "version": "3.11.3"
  }
 },
 "nbformat": 4,
 "nbformat_minor": 5
}
